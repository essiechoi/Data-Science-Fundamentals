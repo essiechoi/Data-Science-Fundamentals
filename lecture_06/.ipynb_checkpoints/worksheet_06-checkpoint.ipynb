{
 "cells": [
  {
   "cell_type": "markdown",
   "metadata": {
    "tags": [],
    "user_expressions": []
   },
   "source": [
    "# Worksheet 06\n",
    "\n",
    "Name:  Esther Choi\n",
    "UID: U24585295\n",
    "\n",
    "### Topics\n",
    "\n",
    "- Kmeans ++\n",
    "- Hierarchical Clustering\n",
    "\n",
    "### Kmeans ++\n",
    "\n",
    "a) What is the difference between K means and K means ++?"
   ]
  },
  {
   "cell_type": "markdown",
   "metadata": {
    "tags": [],
    "user_expressions": []
   },
   "source": [
    "K means picks random centers initially.\n",
    "\n",
    "K means ++ combines farthest first traversal and K means. But it chooses the next center with probability proportional to the distance between x and the centers selected so far."
   ]
  },
  {
   "cell_type": "markdown",
   "metadata": {},
   "source": [
    "b) What are some limitations of K means ++?"
   ]
  },
  {
   "cell_type": "markdown",
   "metadata": {
    "tags": [],
    "user_expressions": []
   },
   "source": [
    "K means ++ can’t handle clusters of different sizes or densities. It tends to split up bigger or more dense clusters in order to make the clusters more uniform."
   ]
  },
  {
   "cell_type": "markdown",
   "metadata": {},
   "source": [
    "c) Interpret the silhouette plot below. It's a histogram where each bar corresponds to the silhouette score for that data point. Comment on which number of clusters K (2,3,4 or 5) you would choose and why. (the red dotted line is the average silhouette score over the entire dataset)."
   ]
  },
  {
   "cell_type": "code",
   "execution_count": null,
   "metadata": {},
   "outputs": [],
   "source": [
    "from IPython.display import Image\n",
    "Image(filename=\"silhouette.png\", width=500, height=500)"
   ]
  },
  {
   "cell_type": "markdown",
   "metadata": {
    "tags": [],
    "user_expressions": []
   },
   "source": [
    "I would choose either of the first two clusters. This is because the silhouette scores are higher on average which indicates better-defined clusters."
   ]
  },
  {
   "cell_type": "markdown",
   "metadata": {
    "tags": [],
    "user_expressions": []
   },
   "source": [
    "### Hierarchical Clustering\n",
    "\n",
    "Using the following dataset:\n",
    "\n",
    "| Point | x | y |\n",
    "|-------|---|---|\n",
    "| A     | 0 | 0 |\n",
    "| B     | 1 | 1 |\n",
    "| C     | 3 | 0 |\n",
    "| D     | 0 | 1 |\n",
    "| E     | 2 | 2 |\n",
    "\n",
    "with\n",
    "\n",
    "d = Euclidean  \n",
    "D = Single-Link\n",
    "\n",
    "produce the distance matrix at every step of the hierarchical clustering algorithm."
   ]
  },
  {
   "cell_type": "markdown",
   "metadata": {
    "tags": [],
    "user_expressions": []
   },
   "source": [
    "Step 1\n",
    "\n",
    "|   | A | B | C | D | E |\n",
    "|---|---|---|---|---|---|\n",
    "| A | 0 |1.41   |3   |1   |2.83   |\n",
    "| B |1.41   | 0 | 2.24  |  1 | 1.41  |\n",
    "| C |3   | 2.24  | 0 |  3.16 |2.24   |\n",
    "| D | 1  | 1  | 3.16  | 0 | 2.24  |\n",
    "| E | 2.83  | 1.41  | 2.24  | 2.24  | 0 |"
   ]
  },
  {
   "cell_type": "code",
   "execution_count": null,
   "metadata": {
    "tags": []
   },
   "outputs": [],
   "source": [
    "# from scipy.spatial import distance\n",
    "# # [A,B,C,D,E]\n",
    "# x = [1.25, 1] \n",
    "# y = [0.75, 1]\n",
    "# res = []\n",
    "# for i in range(len(x)):\n",
    "#     curr = []\n",
    "#     for j in range(len(x)):\n",
    "#         if i != j:\n",
    "#             one = (x[i], y[i])\n",
    "#             two = (x[j], y[j])\n",
    "#             curr.append(round(distance.euclidean(one, two), 2))\n",
    "#         else:\n",
    "#             curr.append(0)\n",
    "#     res.append(curr)\n",
    "# print(res)\n",
    "# x_merged = [(x[0] + x[2]) / 2, x[1]]\n",
    "# y_merged = [(y[0] + y[2]) / 2, y[1]]\n",
    "# print(x_merged, y_merged)        \n"
   ]
  },
  {
   "cell_type": "markdown",
   "metadata": {
    "tags": [],
    "user_expressions": []
   },
   "source": [
    "Step 2\n",
    "\n",
    "|   | AD  | B  |  C |  E |\n",
    "|---|---|---|---|---|\n",
    "| AD  | 0 | 1.12  | 3.04  | 2.5  |\n",
    "|  B | 1.12  | 0 | 2.24  | 1.41  |\n",
    "| C  | 3.04  | 2.24  | 0 |  2.24 |\n",
    "|  E | 2.5  | 1.41  |  2.24 | 0 |"
   ]
  },
  {
   "cell_type": "markdown",
   "metadata": {
    "tags": [],
    "user_expressions": []
   },
   "source": [
    "Step 3\n",
    "\n",
    "|   | ADB  | C  | E  |\n",
    "|---|---|---|---|\n",
    "| ADB  | 0 | 2.51  | 1.95  |\n",
    "| C  | 2.61  | 0 | 2.24  |\n",
    "| E  |1.95   | 2.24  | 0 |"
   ]
  },
  {
   "cell_type": "markdown",
   "metadata": {
    "tags": [],
    "user_expressions": []
   },
   "source": [
    "Step 4\n",
    "\n",
    "|   | ADBE  | C  |\n",
    "|---|---|---|\n",
    "|ADBE   | 0 |  1.86 |\n",
    "| C  | 1.86  | 0 |"
   ]
  },
  {
   "cell_type": "markdown",
   "metadata": {},
   "source": [
    "Repeat the above with\n",
    "\n",
    "d = Euclidean  \n",
    "D = Complete-Link"
   ]
  },
  {
   "cell_type": "markdown",
   "metadata": {
    "tags": [],
    "user_expressions": []
   },
   "source": [
    "Step 1\n",
    "\n",
    "|   | A | B | C | D | E |\n",
    "|---|---|---|---|---|---|\n",
    "| A | 0 |1.41   |3   |1   |2.83   |\n",
    "| B |1.41   | 0 | 2.24  |  1 | 1.41  |\n",
    "| C |3   | 2.24  | 0 |  3.16 |2.24   |\n",
    "| D | 1  | 1  | 3.16  | 0 | 2.24  |\n",
    "| E | 2.83  | 1.41  | 2.24  | 2.24  | 0 |"
   ]
  },
  {
   "cell_type": "markdown",
   "metadata": {
    "tags": [],
    "user_expressions": []
   },
   "source": [
    "Step 2\n",
    "\n",
    "|   |  A | B  | CD  | E  |\n",
    "|---|---|---|---|---|\n",
    "| A  | 0 |1.41   | 1.58  | 2.83  |\n",
    "| B  | 1.41  | 0 | 0.71  | 1.41  |\n",
    "| CD  | 1.58  |0.71   | 0 | 1.58  |\n",
    "| E  | 2.83  | 1.41  |1.58   | 0 |\n"
   ]
  },
  {
   "cell_type": "markdown",
   "metadata": {
    "tags": [],
    "user_expressions": []
   },
   "source": [
    "Step 3\n",
    "\n",
    "|   |  AE | B  | CD  |\n",
    "|---|---|---|---|\n",
    "| AE  | 0 | 0  |  0.71 |\n",
    "| B  | 0  | 0 | 0.71  |\n",
    "| CD  |  0.71 | 0.71  | 0 |\n"
   ]
  },
  {
   "cell_type": "markdown",
   "metadata": {
    "tags": [],
    "user_expressions": []
   },
   "source": [
    "Step 4\n",
    "\n",
    "|   | ACDE  |  B |\n",
    "|---|---|---|\n",
    "|  ACDE | 0 | 0.35  |\n",
    "| B  | 0.35  | 0 |"
   ]
  },
  {
   "cell_type": "markdown",
   "metadata": {},
   "source": [
    "## Challenge Problem\n",
    "\n",
    "### Input:\n",
    "- Some DNA sequences, each sequence is on a new line. All sequences are of equal length and consist of characters from the set {A, C, G, T}.\n",
    "\n",
    "\n",
    "### Task:\n",
    "- Implement a hierarchical clustering algorithm using Hamming distance as the metric clustering DNA sequences.\n",
    "\n",
    "### Definition of Hamming Distance:\n",
    "\n",
    "The Hamming distance between two strings of equal length is the number of positions at which the corresponding symbols are different. Mathematically, if we have two strings, $s$ and $t$, of equal length, then the Hamming distance $H(s, t)$ is given by:\n",
    "\n",
    "$$ H(s, t) = \\sum_{i=1}^{n} [s_i \\neq t_i] $$\n",
    "\n",
    "where $n$ is the length of the strings, $s_i$ and $t_i$ are the characters at position $i$ in $s$ and $t$ respectively, and $[s_i \\neq t_i]$ is an indicator function, equal to 1 if $s_i \\neq t_i$ and 0 otherwise.\n",
    "\n",
    "\n",
    "### Guidelines:\n",
    "1. **Read the Dataset**: Choose appropriate data structure.\n",
    "2. **Compute Hamming Distance**: Implement a function to calculate the Hamming distance between any two sequences.\n",
    "3. **Hierarchical Clustering**: Apply the hierarchical clustering algorithm using the single-linkage method.\n",
    "4. **Dendrogram**: Generate a dendrogram to visualize the clustering.\n",
    "5. **NOTE**: You may use any Python library, but be sure to understand the underlying algorithm."
   ]
  },
  {
   "cell_type": "code",
   "execution_count": null,
   "metadata": {
    "tags": []
   },
   "outputs": [],
   "source": [
    "sequences = [\n",
    " 'ACGTGGTCTTAA',\n",
    " 'ACGTCGTCTTAC',\n",
    " 'ACGTGGTCTTAC',\n",
    " 'ACGTAGTCTTAA',\n",
    " 'ACGTGGTCTTCC',\n",
    " 'ACGTGGTCTTAG',\n",
    " 'CTGTTAAATAAG',\n",
    " 'GGTTAGAACACG',\n",
    " 'AGTGGTTGAAGT',\n",
    " 'GGCTTACACCCT',\n",
    " 'AGATTGTCCACT',\n",
    " 'CATGCGGTCAAC',\n",
    " 'ATATATCATAGC',\n",
    " 'TTTGCGGTTGGA',\n",
    " 'GAATGGTCAGAA',\n",
    " 'GTGATGCTGTCT']"
   ]
  },
  {
   "cell_type": "code",
   "execution_count": null,
   "metadata": {
    "tags": []
   },
   "outputs": [],
   "source": [
    "import numpy as np\n",
    "from scipy.cluster.hierarchy import linkage, dendrogram\n",
    "import matplotlib.pyplot as plt\n",
    "\n",
    "def hamming_distance(s1, s2):\n",
    "    return sum(c1 != c2 for c1, c2 in zip(s1, s2))\n",
    "\n",
    "def createMatrix(sequences):\n",
    "    matrix = np.zeros((16,16))\n",
    "    \n",
    "    for i in range(16):\n",
    "        for j in range(i + 1, 16):\n",
    "            matrix[i, j] = hamming_distance(sequences[i], sequences[j])\n",
    "            matrix[j, i] = distance_matrix[i, j] \n",
    "    \n",
    "    return matrix\n",
    "\n",
    "distance_matrix = createMatrix(sequences)\n",
    "\n",
    "linkage_matrix = linkage(distance_matrix, method='single')\n",
    "\n",
    "dendrogram(linkage_matrix, labels=sequences)\n",
    "plt.title('Hierarchical Clustering Dendrogram - Single Linkage')\n",
    "plt.xlabel('Sequences')\n",
    "plt.ylabel('Distance')\n",
    "plt.show()\n"
   ]
  }
 ],
 "metadata": {
  "kernelspec": {
   "display_name": "Python 3 (ipykernel)",
   "language": "python",
   "name": "python3"
  },
  "language_info": {
   "codemirror_mode": {
    "name": "ipython",
    "version": 3
   },
   "file_extension": ".py",
   "mimetype": "text/x-python",
   "name": "python",
   "nbconvert_exporter": "python",
   "pygments_lexer": "ipython3",
   "version": "3.9.13"
  },
  "vscode": {
   "interpreter": {
    "hash": "76ca05dc3ea24b2e3b98cdb7774adfbb40773424bf5109b477fd793f623715af"
   }
  }
 },
 "nbformat": 4,
 "nbformat_minor": 4
}
