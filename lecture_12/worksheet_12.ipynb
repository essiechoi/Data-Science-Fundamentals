{
 "cells": [
  {
   "cell_type": "markdown",
   "metadata": {
    "tags": [],
    "user_expressions": []
   },
   "source": [
    "# Worksheet 12\n",
    "\n",
    "Name:  Esther Choi\n",
    "UID: U24585295\n",
    "\n",
    "### Topics\n",
    "\n",
    "- Introduction to Classification\n",
    "- K Nearest Neighbors\n",
    "\n",
    "### Introduction to Classification\n",
    "\n",
    "a) For the following examples, say whether they are or aren't an example of classification.\n",
    "\n",
    "1. Predicting whether a student will be offered a job after graduating given their GPA.\n",
    "2. Predicting how long it will take (in number of months) for a student to be offered a job after graduating, given their GPA.\n",
    "3. Predicting the number of stars (1-5) a person will assign in their yelp review given the description they wrote in the review.\n",
    "4. Predicting the number of births occuring in a specified minute."
   ]
  },
  {
   "cell_type": "markdown",
   "metadata": {
    "tags": [],
    "user_expressions": []
   },
   "source": [
    "1. Classification\n",
    "2. No\n",
    "3. Classification\n",
    "4. No"
   ]
  },
  {
   "cell_type": "markdown",
   "metadata": {},
   "source": [
    "b) Given a dataset, how would you set things up such that you can both learn a model and get an idea of how this model might perform on data it has never seen?"
   ]
  },
  {
   "cell_type": "markdown",
   "metadata": {
    "tags": [],
    "user_expressions": []
   },
   "source": [
    "Utilize a training and testing set. Use the training set to train your model by choosing a combination of features that best generalizes the trend of the dataset without underfitting or overfitting.\n",
    "Then test it on the testing set. The model should generalize both sets well without being too specific to the training set or being too simple that it generalizes any trend. "
   ]
  },
  {
   "cell_type": "markdown",
   "metadata": {
    "tags": [],
    "user_expressions": []
   },
   "source": [
    "c) In your own words, briefly explain:\n",
    "\n",
    "- underfitting\n",
    "- overfitting \n",
    "\n",
    "and what signs to look out for for each."
   ]
  },
  {
   "cell_type": "markdown",
   "metadata": {
    "tags": [],
    "user_expressions": []
   },
   "source": [
    "- underfitting: over-generalization of data because the model is too simple. \n",
    "- overfitting: learning something that is too specific to data that we collected, there could be bias. \n",
    "\n",
    "For example, once the accuracy report for the test and training sets start to have an inversely proportional relationship- where the training set gets more accurate while the test set gets less accurate- then you know that the model is becoming too specific. "
   ]
  },
  {
   "cell_type": "markdown",
   "metadata": {},
   "source": [
    "### K Nearest Neighbors"
   ]
  },
  {
   "cell_type": "code",
   "execution_count": null,
   "metadata": {
    "tags": []
   },
   "outputs": [],
   "source": [
    "import numpy as np\n",
    "import matplotlib.pyplot as plt\n",
    "\n",
    "data = {\n",
    "    \"Attribute A\" : [3.5, 0, 1, 2.5, 2, 1.5, 2, 3.5, 1, 3, 2, 2, 2.5, 0.5, 0., 10],\n",
    "    \"Attribute B\" : [4, 1.5, 2, 1, 3.5, 2.5, 1, 0, 3, 1.5, 4, 2, 2.5, 0.5, 2.5, 10],\n",
    "    \"Class\" : [1, 0, 1, 0, 1, 0, 1, 0, 1, 0, 1, 0, 0, 1, 1, 0],\n",
    "}"
   ]
  },
  {
   "cell_type": "markdown",
   "metadata": {},
   "source": [
    "a) Plot the data in a 2D plot coloring each scatter point one of two colors depending on its corresponding class."
   ]
  },
  {
   "cell_type": "code",
   "execution_count": null,
   "metadata": {
    "tags": []
   },
   "outputs": [],
   "source": [
    "colors = np.array([x for x in 'bgrcmyk'])\n",
    "x_coordinates, y_coordinates = data[\"Attribute A\"], data[\"Attribute B\"]\n",
    "color_coordinates = colors[data[\"Class\"]].tolist()\n",
    "plt.scatter(x_coordinates, y_coordinates, color=color_coordinates)\n",
    "plt.show()"
   ]
  },
  {
   "cell_type": "markdown",
   "metadata": {},
   "source": [
    "Outliers are points that lie far from the rest of the data. They are not necessarily invalid points however. Imagine sampling from a Normal Distribution with mean 10 and variance 1. You would expect most points you sample to be in the range [7, 13] but it's entirely possible to see 20 which, on average, should be very far from the rest of the points in the sample (unless we're VERY (un)lucky). These outliers can inhibit our ability to learn general patterns in the data since they are not representative of likely outcomes. They can still be useful in of themselves and can be analyzed in great depth depending on the problem at hand.\n",
    "\n",
    "b) Are there any points in the dataset that could be outliers? If so, please remove them from the dataset."
   ]
  },
  {
   "cell_type": "markdown",
   "metadata": {
    "tags": [],
    "user_expressions": []
   },
   "source": [
    "Yes, there is one point with coordinate (10,10). Here's the removed version below:"
   ]
  },
  {
   "cell_type": "code",
   "execution_count": null,
   "metadata": {
    "tags": []
   },
   "outputs": [],
   "source": [
    "x_no_outlier = (data[\"Attribute A\"])[:-1]\n",
    "y_no_outlier = (data[\"Attribute B\"])[:-1]\n",
    "color_no_outlier = (data[\"Class\"])[:-1]\n",
    "plt.scatter(x_no_outlier, y_no_outlier, color=colors[color_no_outlier].tolist())\n",
    "plt.show()"
   ]
  },
  {
   "cell_type": "markdown",
   "metadata": {},
   "source": [
    "Noise points are points that could be considered invalid under the general trend in the data. These could be the result of actual errors in the data or randomness that we could attribute to oversimplification (for example if missing some information / feature about each point). Considering noise points in our model can often lead to overfitting.\n",
    "\n",
    "c) Are there any points in the dataset that could be noise points?"
   ]
  },
  {
   "cell_type": "markdown",
   "metadata": {
    "tags": [],
    "user_expressions": []
   },
   "source": [
    "Yes, the point at (0,3.5) could be considered a noise point because it doesn't follow the general linear trend."
   ]
  },
  {
   "cell_type": "markdown",
   "metadata": {},
   "source": [
    "For the following point\n",
    "\n",
    "|  A  |  B  |\n",
    "|-----|-----|\n",
    "| 0.5 |  1  |\n",
    "\n",
    "d) Plot it in a different color along with the rest of the points in the dataset."
   ]
  },
  {
   "cell_type": "code",
   "execution_count": null,
   "metadata": {
    "tags": []
   },
   "outputs": [],
   "source": [
    "x,y = 0.5, 1\n",
    "specific_point_color = 'red'\n",
    "plt.scatter(x_no_outlier, y_no_outlier, color=colors[color_no_outlier].tolist())\n",
    "plt.scatter(x, y, color=specific_point_color, label='Specific Point')\n",
    "plt.show()"
   ]
  },
  {
   "cell_type": "markdown",
   "metadata": {},
   "source": [
    "e) Write a function to compute the Euclidean distance from it to all points in the dataset and pick the 3 closest points to it. In a scatter plot, draw a circle centered around the point with radius the distance of the farthest of the three points."
   ]
  },
  {
   "cell_type": "code",
   "execution_count": null,
   "metadata": {
    "tags": []
   },
   "outputs": [],
   "source": [
    "# gets the closest n points to example using data\n",
    "def n_closest_to(example, n, data):\n",
    "    dataset_x, dataset_y = data\n",
    "    x,y = example\n",
    "    distances = np.sqrt((dataset_x - x)**2 + (dataset_y - y)**2)\n",
    "    closest_indices = np.argsort(distances)[:n]\n",
    "    closest_distances = np.array([distances[i] for i in closest_indices])\n",
    "    return closest_distances, closest_indices\n",
    "\n",
    "# call the function n_closest_to\n",
    "dataset_x, dataset_y = np.array(x_no_outlier), np.array(y_no_outlier)\n",
    "closest_distances, closest_indices = n_closest_to((x,y), 3, (dataset_x, dataset_y))\n",
    "\n",
    "# plot the circle and points in relation to its radius\n",
    "location = ( x , y )\n",
    "radius = max(closest_distances)\n",
    "_, axes = plt.subplots()\n",
    "axes.scatter(dataset_x, dataset_y, color='blue', label='Data Points')\n",
    "axes.scatter(dataset_x[closest_indices], dataset_y[closest_indices], color='red', label='Closest Points')\n",
    "cir = plt.Circle(location, radius, fill = False, alpha=0.8)\n",
    "axes.add_patch(cir)\n",
    "axes.set_aspect('equal') # necessary so that the circle is not oval\n",
    "plt.show()"
   ]
  },
  {
   "cell_type": "markdown",
   "metadata": {},
   "source": [
    "f) Write a function that takes the three points returned by your function in e) and returns the class that the majority of points have (break ties with a deterministic default class of your choosing). Print the class assigned to this new point by your function."
   ]
  },
  {
   "cell_type": "code",
   "execution_count": null,
   "metadata": {
    "tags": []
   },
   "outputs": [],
   "source": [
    "def majority(points):\n",
    "    closest_classes = [data[\"Class\"][i] for i in points]\n",
    "    class_counts = {0: 0, 1: 0}\n",
    "    for label in closest_classes:\n",
    "        class_counts[label] += 1\n",
    "    print(class_counts)\n",
    "    majority_class = max(class_counts, key=class_counts.get)\n",
    "    return majority_class"
   ]
  },
  {
   "cell_type": "markdown",
   "metadata": {
    "tags": [],
    "user_expressions": []
   },
   "source": [
    "g) Re-using the functions from e) and f), you should be able to assign a class to any new point. In this exercise we will implement Leave-one-out cross validiation in order to evaluate the performance of our model.\n",
    "\n",
    "For each point in the dataset:\n",
    "\n",
    "- consider that point as your test set and the rest of the data as your training set\n",
    "- classify that point using the training set\n",
    "- keep track of whether you were correct with the use of a counter\n",
    "\n",
    "Once you've iterated through the entire dataset, divide the counter by the number of points in the dataset to report an overall testing accuracy."
   ]
  },
  {
   "cell_type": "code",
   "execution_count": null,
   "metadata": {
    "tags": []
   },
   "outputs": [],
   "source": [
    "count = 0\n",
    "\n",
    "for i in range(len(dataset_x)):\n",
    "    actual_class = data[\"Class\"][i]\n",
    "    test_point = (dataset_x[i], dataset_y[i])\n",
    "    \n",
    "    training_x = x_no_outlier[:i] + x_no_outlier[i+1:]\n",
    "    training_y = y_no_outlier[:i] + y_no_outlier[i+1:]\n",
    "    \n",
    "    training_set = (training_x, training_y)\n",
    "    \n",
    "    closest_distances, closest_indices = n_closest_to(test_point, 3, training_set)\n",
    "\n",
    "    prediction = majority(closest_indices)\n",
    "    if prediction == actual_class:\n",
    "        count += 1\n",
    "\n",
    "\n",
    "print(\"overall accuracy = \", count/len(dataset_x))"
   ]
  }
 ],
 "metadata": {
  "interpreter": {
   "hash": "76ca05dc3ea24b2e3b98cdb7774adfbb40773424bf5109b477fd793f623715af"
  },
  "kernelspec": {
   "display_name": "Python 3 (ipykernel)",
   "language": "python",
   "name": "python3"
  },
  "language_info": {
   "codemirror_mode": {
    "name": "ipython",
    "version": 3
   },
   "file_extension": ".py",
   "mimetype": "text/x-python",
   "name": "python",
   "nbconvert_exporter": "python",
   "pygments_lexer": "ipython3",
   "version": "3.9.13"
  }
 },
 "nbformat": 4,
 "nbformat_minor": 4
}
